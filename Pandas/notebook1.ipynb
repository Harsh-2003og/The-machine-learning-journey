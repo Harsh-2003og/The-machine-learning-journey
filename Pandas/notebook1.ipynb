{
 "cells": [
  {
   "attachments": {},
   "cell_type": "markdown",
   "metadata": {},
   "source": [
    "#OOP's Task - 9 feb\n"
   ]
  },
  {
   "cell_type": "code",
   "execution_count": 6,
   "metadata": {},
   "outputs": [
    {
     "name": "stdout",
     "output_type": "stream",
     "text": [
      "('Your car information is ', 'Name of car is ', 'Verna', 'Maximum speed of the car is', 280, 'Your car gives the average of ', 14)\n",
      "('Your car information is ', 'Name of car is ', 'desire', 'Maximum speed of the car is', 210, 'Your car gives the average of ', 20)\n"
     ]
    }
   ],
   "source": [
    "#Question 1\n",
    "# Creation of the class\n",
    "class vehicle :\n",
    "    def __init__(self, name, max_speed, average):\n",
    "        self.name = name\n",
    "        self.max_speed = max_speed\n",
    "        self.average = average\n",
    "\n",
    "    def car_info(self) :\n",
    "        return f\"Your car information is \", \"Name of car is \", self.name ,\"Maximum speed of the car is\", self.max_speed,\"Your car gives the average of \", self.average\n",
    "\n",
    "car_1 = vehicle(\"Verna\", 280, 14)\n",
    "car_2 = vehicle(\"desire\", 210, 20)\n",
    "\n",
    "print(car_1.car_info())\n",
    "print(car_2.car_info())\n",
    "\n"
   ]
  },
  {
   "cell_type": "code",
   "execution_count": null,
   "metadata": {},
   "outputs": [],
   "source": [
    "class vehicle :\n",
    "    def __init__(self, name, max_speed, average):\n",
    "        self.name = name\n",
    "        self.max_speed = max_speed\n",
    "        self.average = average\n",
    "\n",
    "class car(vehicle):\n",
    "    def seating_capacity()"
   ]
  },
  {
   "cell_type": "code",
   "execution_count": 4,
   "metadata": {},
   "outputs": [
    {
     "name": "stdout",
     "output_type": "stream",
     "text": [
      "Mukesh mukesh34@gmail.com\n"
     ]
    }
   ],
   "source": [
    "class pwskills :\n",
    "    def __init__(self, name, email):\n",
    "        self.name = name\n",
    "        self.email = email\n",
    "\n",
    "    def student_info(self):\n",
    "        print(self.name, self.email)\n",
    "\n",
    "mukesh = pwskills(\"Mukesh\", \"mukesh34@gmail.com\")\n",
    "mukesh.student_info()"
   ]
  }
 ],
 "metadata": {
  "kernelspec": {
   "display_name": "Python 3",
   "language": "python",
   "name": "python3"
  },
  "language_info": {
   "codemirror_mode": {
    "name": "ipython",
    "version": 3
   },
   "file_extension": ".py",
   "mimetype": "text/x-python",
   "name": "python",
   "nbconvert_exporter": "python",
   "pygments_lexer": "ipython3",
   "version": "3.9.12"
  },
  "orig_nbformat": 4
 },
 "nbformat": 4,
 "nbformat_minor": 2
}
